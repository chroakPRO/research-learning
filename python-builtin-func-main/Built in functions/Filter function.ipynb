{
 "cells": [
  {
   "cell_type": "code",
   "execution_count": 5,
   "id": "379f30f4",
   "metadata": {},
   "outputs": [
    {
     "name": "stdout",
     "output_type": "stream",
     "text": [
      "['a', 'a']\n"
     ]
    }
   ],
   "source": [
    "#Filter function\n",
    "def fun(x):\n",
    "    letters = ['a', 'b', 'c']\n",
    "    if x in letters:\n",
    "        return True\n",
    "    else:\n",
    "        return False\n",
    "\n",
    "seq = ['a', 'j', 't', 'n', 'g', 'a']\n",
    "filtered = filter(fun, seq)\n",
    "lamfun = filter(lambda x: fun(x), seq)\n",
    "print(list(lamfun))\n"
   ]
  },
  {
   "cell_type": "code",
   "execution_count": 6,
   "id": "4de6ed87",
   "metadata": {},
   "outputs": [
    {
     "name": "stdout",
     "output_type": "stream",
     "text": [
      "[1, 3, 5, 13]\n"
     ]
    }
   ],
   "source": [
    "# a list contains both even and odd numbers. \n",
    "seq = [0, 1, 2, 3, 5, 8, 13]\n",
    "  \n",
    "# result contains odd numbers of the list\n",
    "result = filter(lambda x: x % 2 != 0, seq)\n",
    "print(list(result))\n",
    "  \n",
    "# result contains even numbers of the list\n",
    "#result = filter(lambda x: x % 2 == 0, seq)\n",
    "#print(list(result))"
   ]
  },
  {
   "cell_type": "code",
   "execution_count": 7,
   "id": "cf3131e6",
   "metadata": {},
   "outputs": [
    {
     "data": {
      "text/plain": [
       "0"
      ]
     },
     "execution_count": 7,
     "metadata": {},
     "output_type": "execute_result"
    }
   ],
   "source": [
    "0 % 2"
   ]
  },
  {
   "cell_type": "code",
   "execution_count": null,
   "id": "935a737c",
   "metadata": {},
   "outputs": [],
   "source": []
  }
 ],
 "metadata": {
  "kernelspec": {
   "display_name": "Python 3",
   "language": "python",
   "name": "python3"
  },
  "language_info": {
   "codemirror_mode": {
    "name": "ipython",
    "version": 3
   },
   "file_extension": ".py",
   "mimetype": "text/x-python",
   "name": "python",
   "nbconvert_exporter": "python",
   "pygments_lexer": "ipython3",
   "version": "3.8.5"
  }
 },
 "nbformat": 4,
 "nbformat_minor": 5
}
