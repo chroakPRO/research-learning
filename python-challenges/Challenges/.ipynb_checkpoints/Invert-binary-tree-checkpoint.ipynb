{
 "cells": [
  {
   "cell_type": "code",
   "execution_count": 3,
   "metadata": {},
   "outputs": [
    {
     "name": "stdout",
     "output_type": "stream",
     "text": [
      "1 3 7 6 2 5 4 "
     ]
    },
    {
     "data": {
      "text/plain": [
       "<__main__.Node at 0x1da50a770c8>"
      ]
     },
     "execution_count": 3,
     "metadata": {},
     "output_type": "execute_result"
    }
   ],
   "source": [
    "# Definition for a binary tree node.\n",
    "class Node:\n",
    "    def __init__(self, data, val=0, left=None, right=None):\n",
    "        self.data = data\n",
    "        self.val = val\n",
    "        self.left = left\n",
    "        self.right = right\n",
    "class Solution:\n",
    "    def invertTree(self, root: Node) -> Node:\n",
    "        if root is None:\n",
    "            return None\n",
    "        \n",
    "        print(root.data, end=' ')\n",
    "        root.left\n",
    "        root.right\n",
    "        self.invertTree(root.right) \n",
    "        self.invertTree(root.left)\n",
    "        #root.left, root.right = self.invertTree(root.right), self.invertTree(root.left)\n",
    "        return root\n",
    "root = Node(1)\n",
    "root.left = Node(2)\n",
    "root.right = Node(3)\n",
    "root.left.left = Node(4)\n",
    "root.left.right = Node(5)\n",
    "root.right.left = Node(6)\n",
    "root.right.right = Node(7)\n",
    "\n",
    "a = Solution()\n",
    "a.invertTree(root)\n",
    "\n",
    "\n",
    "        \n",
    "    "
   ]
  }
 ],
 "metadata": {
  "kernelspec": {
   "display_name": "Python 3",
   "language": "python",
   "name": "python3"
  },
  "language_info": {
   "codemirror_mode": {
    "name": "ipython",
    "version": 3
   },
   "file_extension": ".py",
   "mimetype": "text/x-python",
   "name": "python",
   "nbconvert_exporter": "python",
   "pygments_lexer": "ipython3",
   "version": "3.7.7"
  }
 },
 "nbformat": 4,
 "nbformat_minor": 4
}
