{
 "cells": [
  {
   "cell_type": "code",
   "execution_count": 7,
   "id": "02e8add0",
   "metadata": {},
   "outputs": [
    {
     "name": "stdout",
     "output_type": "stream",
     "text": [
      "[1, 4, 27, 256]\n",
      "[1, 4, 27, 256]\n"
     ]
    }
   ],
   "source": [
    "#Map\n",
    "def mul(x):\n",
    "    return x**x\n",
    "\n",
    "y = [1, 2, 3, 4]\n",
    "#This is wrong\n",
    "print(list(map(mul, y)))\n",
    "\n",
    "#This is correct\n",
    "result = map(lambda x: x**x, y)\n",
    "result = map(lambda x: mul(x), y)\n",
    "print(list(result))"
   ]
  },
  {
   "cell_type": "code",
   "execution_count": 12,
   "id": "497323b8",
   "metadata": {},
   "outputs": [
    {
     "name": "stdout",
     "output_type": "stream",
     "text": [
      "[3, 7, 11]\n"
     ]
    }
   ],
   "source": [
    "#Map function with multiple sets.\n",
    "def mul(x, y):\n",
    "    return x+y\n",
    "\n",
    "num1 = [2, 4, 6]\n",
    "num2 = [1, 3, 5]\n",
    "\n",
    "\n",
    "result = map(lambda x, y: x + y, num1, num2)\n",
    "result2 = map(lambda x, y: mul(x, y), num1, num2)\n",
    "print(list(result2))\n",
    "\n"
   ]
  },
  {
   "cell_type": "code",
   "execution_count": 31,
   "id": "463c4eee",
   "metadata": {},
   "outputs": [
    {
     "name": "stdout",
     "output_type": "stream",
     "text": [
      "[['s', 'a', 't'], ['b', 'a', 't'], ['c', 'a', 't'], ['m', 'a', 't']]\n"
     ]
    }
   ],
   "source": [
    "# List of strings\n",
    "l = ['sat', 'bat', 'cat', 'mat']\n",
    "  \n",
    "# map() can listify the list of strings individually\n",
    "test = list(map(list, l))\n",
    "print(test)"
   ]
  },
  {
   "cell_type": "code",
   "execution_count": null,
   "id": "e156fe63",
   "metadata": {},
   "outputs": [],
   "source": []
  },
  {
   "cell_type": "code",
   "execution_count": 22,
   "id": "85a76bea",
   "metadata": {},
   "outputs": [],
   "source": [
    "map?\n"
   ]
  },
  {
   "cell_type": "code",
   "execution_count": 23,
   "id": "20bb0e88",
   "metadata": {},
   "outputs": [],
   "source": [
    "import math\n",
    "\n",
    "math.sqrt?"
   ]
  },
  {
   "cell_type": "code",
   "execution_count": null,
   "id": "24edcf5f",
   "metadata": {},
   "outputs": [],
   "source": []
  }
 ],
 "metadata": {
  "kernelspec": {
   "display_name": "Python 3",
   "language": "python",
   "name": "python3"
  },
  "language_info": {
   "codemirror_mode": {
    "name": "ipython",
    "version": 3
   },
   "file_extension": ".py",
   "mimetype": "text/x-python",
   "name": "python",
   "nbconvert_exporter": "python",
   "pygments_lexer": "ipython3",
   "version": "3.8.5"
  }
 },
 "nbformat": 4,
 "nbformat_minor": 5
}
