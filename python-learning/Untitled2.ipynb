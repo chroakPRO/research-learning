{
 "cells": [
  {
   "cell_type": "code",
   "execution_count": 6,
   "id": "7fa6b13f",
   "metadata": {},
   "outputs": [
    {
     "data": {
      "text/plain": [
       "{'e': 1, '.': 1, 'c': 1, 'o': 3, 'l': 1, 'm': 1, 'g': 2}"
      ]
     },
     "execution_count": 6,
     "metadata": {},
     "output_type": "execute_result"
    }
   ],
   "source": [
    "#SCount amount of letters in string.\n",
    "\n",
    "x = \"google.com\"\n",
    "y = [char for char in x]\n",
    "x_list = []\n",
    "\n",
    "def check_freq(x):\n",
    "    freq = {}\n",
    "    for c in set(x):\n",
    "        freq[c] = x.count(c)\n",
    "    return freq\n",
    "\n",
    "check_freq(\"google.com\")"
   ]
  },
  {
   "cell_type": "code",
   "execution_count": 3,
   "id": "0359140b",
   "metadata": {},
   "outputs": [
    {
     "name": "stdout",
     "output_type": "stream",
     "text": [
      "-1\n",
      "not 4\n",
      "not 4\n",
      "-2\n",
      "not 4\n"
     ]
    }
   ],
   "source": [
    "i = 4\n",
    "while True:\n",
    "    i -= 5\n",
    "    if i == -1:\n",
    "        print(-1)\n",
    "        continue\n",
    "    elif i == -2:\n",
    "        print(-2)\n",
    "    if i == 4:\n",
    "        print(4)\n",
    "    i += 7\n",
    "    if i != 4:\n",
    "        print(\"not 4\")\n",
    "    if i == 5:\n",
    "        break"
   ]
  },
  {
   "cell_type": "code",
   "execution_count": 4,
   "id": "bd9c6b69",
   "metadata": {},
   "outputs": [],
   "source": [
    "import PySimpleGUI as sg\n",
    "\n",
    "sg.theme('DarkAmber')   # Add a touch of color\n",
    "# All the stuff inside your window.\n",
    "layout = [  [sg.Text('Some text on Row 1')],\n",
    "            [sg.Text('Enter something on Row 2'), sg.InputText()],\n",
    "            [sg.Button('Ok'), sg.Button('Cancel')] ]\n",
    "\n",
    "# Create the Window\n",
    "window = sg.Window('Window Title', layout)\n",
    "# Event Loop to process \"events\" and get the \"values\" of the inputs\n",
    "while True:\n",
    "    event, values = window.read()\n",
    "    if event == sg.WIN_CLOSED or event == 'Cancel': # if user closes window or clicks cancel\n",
    "        break\n",
    "    print('You entered ', values[0])\n",
    "\n",
    "window.close()"
   ]
  },
  {
   "cell_type": "code",
   "execution_count": null,
   "id": "248c3210",
   "metadata": {},
   "outputs": [],
   "source": []
  }
 ],
 "metadata": {
  "kernelspec": {
   "display_name": "Python 3",
   "language": "python",
   "name": "python3"
  },
  "language_info": {
   "codemirror_mode": {
    "name": "ipython",
    "version": 3
   },
   "file_extension": ".py",
   "mimetype": "text/x-python",
   "name": "python",
   "nbconvert_exporter": "python",
   "pygments_lexer": "ipython3",
   "version": "3.8.8"
  }
 },
 "nbformat": 4,
 "nbformat_minor": 5
}
