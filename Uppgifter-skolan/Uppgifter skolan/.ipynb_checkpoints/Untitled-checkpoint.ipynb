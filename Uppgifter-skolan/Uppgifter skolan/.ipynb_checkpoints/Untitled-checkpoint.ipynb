{
 "cells": [
  {
   "cell_type": "code",
   "execution_count": 3,
   "id": "00846c52-1c02-4a2c-af7a-bd523f0668b4",
   "metadata": {},
   "outputs": [
    {
     "data": {
      "text/plain": [
       "\u001b[0;31mType:\u001b[0m        module\n",
       "\u001b[0;31mString form:\u001b[0m <module 'databehandling' from '/Users/cbashful/Dropbox/Python/Uppgifter skolan/databehandling.py'>\n",
       "\u001b[0;31mFile:\u001b[0m        ~/Dropbox/Python/Uppgifter skolan/databehandling.py\n",
       "\u001b[0;31mDocstring:\u001b[0m  \n",
       "InfoSec, Python Programming beginner (version, 3.9+) Data proccessing.\n",
       "\n",
       "This code might now tbe the most user friendly, but it sure is quite effiencent and scalable.\n",
       "\n",
       "Date Creation: 2021-06-05\n",
       "Author: Christopher Ek (chrome91)\n",
       "Estimated Work Time: 2 hours (Took a while to figure out classes on python from C#)\n"
      ]
     },
     "metadata": {},
     "output_type": "display_data"
    }
   ],
   "source": [
    "import databehandling\n",
    "databehandling?\n"
   ]
  },
  {
   "cell_type": "code",
   "execution_count": null,
   "id": "0391c586-8e9c-4ed6-a2ba-d3eda70f9da3",
   "metadata": {},
   "outputs": [],
   "source": []
  },
  {
   "cell_type": "code",
   "execution_count": 125,
   "id": "2ed28131-4493-4c93-bf29-91d688e9242e",
   "metadata": {
    "tags": []
   },
   "outputs": [
    {
     "name": "stdout",
     "output_type": "stream",
     "text": [
      "\n",
      "[*]Average Horse height 150.0\n",
      "[*]Average Horse weight 500.0\n",
      "[*]Average Cat height: 150.0\n",
      "[*]Average Cat weight: 500.0\n",
      "\n",
      "[*]Least Horse height 150\n",
      "[*]Most Horse height: 150\n",
      "[*]Least Cat height 150\n",
      "[*]Most Cat height: 150\n",
      "\n",
      "[*]Oldest Cat Date: ['2021-08-20']\n",
      "[*]Oldest Horse Date: ['2021-01-02']\n",
      "Please Write Your Name: John\n",
      "500\n"
     ]
    }
   ],
   "source": [
    "# Data proccessing.\n",
    "import os\n",
    "from datetime import datetime\n",
    "from collections import defaultdict\n",
    "\n",
    "exts = {'.horse', '.katt'}\n",
    "grouped_files = defaultdict(int)\n",
    "cat_list = []\n",
    "horse_list = []\n",
    "combined_list = []\n",
    "\n",
    "# These two classes are created as object storage.\n",
    "# We use this method to easily access variables insides the objects.\n",
    "\n",
    "\n",
    "class Horse:\n",
    "\n",
    "    def __init__(self, name, weight, height, date):\n",
    "        self.name = name\n",
    "        self.weight = weight\n",
    "        self.height = height\n",
    "        self.date = date\n",
    "\n",
    "\n",
    "class Cat:\n",
    "\n",
    "    def __init__(self, name, weight, height, date):\n",
    "        self.name = name\n",
    "        self.weight = weight\n",
    "        self.height = height\n",
    "        self.date = date\n",
    "\n",
    "\n",
    "def weight_height_score(lists):\n",
    "    total_weight_score = 0\n",
    "    avg_weigth_score = 0\n",
    "    total_height_score = 0\n",
    "    avg_height_score = 0\n",
    "    enteries = 0\n",
    "\n",
    "    least_height = 99999999999\n",
    "    most_height = 0\n",
    "    for i in lists:\n",
    "        #print(i.weight)\n",
    "        total_weight_score += int(i.weight)\n",
    "        total_height_score += int(i.height)\n",
    "        enteries += 1\n",
    "        if int(i.height) > most_height:\n",
    "            most_height = int(i.height)\n",
    "        else:\n",
    "            print(\"Debugging.\")\n",
    "        \n",
    "        if int(i.height) < least_height:\n",
    "            least_height = int(i.height)\n",
    "            #print(least_height)\n",
    "            \n",
    "    avg_weight_score = total_weight_score / enteries\n",
    "    avg_height_score = total_height_score / enteries\n",
    "\n",
    "    return avg_weight_score, avg_height_score, least_height, most_height\n",
    "\n",
    "\n",
    "def date_sort(lists):\n",
    "    date_sorted = []\n",
    "    # Creating a new list with the date only.\n",
    "    for i in lists:\n",
    "        date_sorted.append(i.date)\n",
    "        \n",
    "    date_sorted.sort(key=lambda date: datetime.strptime(date, '%Y-%m-%d'))\n",
    "    return date_sorted\n",
    "\n",
    "\n",
    "def name_matching(name):\n",
    "    for i in cat_list:\n",
    "        if name == i.name:\n",
    "            print(i.weight)\n",
    "\n",
    "    for i in horse_list:\n",
    "        if name == i.name:\n",
    "            print(i.weight)\n",
    "\n",
    "\n",
    "def main():\n",
    "\n",
    "    for f in os.listdir(\".\"):\n",
    "        name, ext = os.path.splitext(os.path.join(\".\", f))\n",
    "        #print(f)\n",
    "        if ext in exts:\n",
    "            grouped_files[name] += 1\n",
    "\n",
    "    for name in grouped_files:\n",
    "        #print(grouped_files[name])\n",
    "        if grouped_files[name] == len(exts):\n",
    "            with open('{}.katt'.format(name)) as katt_file,\\\n",
    "                    open('{}.horse'.format(name)) as horse_file:\n",
    "\n",
    "                # We use these to store information that we later input into object.\n",
    "                temp_storage = []\n",
    "                count = 0\n",
    "                # process files\n",
    "                for i in katt_file:\n",
    "                    try: \n",
    "                        i2 = i.replace(\"\\n\", \"\")\n",
    "                        #print(i2)\n",
    "                        temp_storage.append(i2)\n",
    "                        count += 1\n",
    "                    except Exception as e:\n",
    "                        print(\"Incorrect file formating. \\n\", e)\n",
    "                        \n",
    "                if count == 4:\n",
    "                    cat_list.append(Cat(temp_storage[0],\n",
    "                                        temp_storage[1],\n",
    "                                        temp_storage[2],\n",
    "                                        temp_storage[3]))\n",
    "                    combined_list.append(Cat(temp_storage[0],\n",
    "                                        temp_storage[1],\n",
    "                                        temp_storage[2],\n",
    "                                        temp_storage[3]))\n",
    "                    temp_storage.clear()\n",
    "                    count = 0\n",
    "                else:\n",
    "                    print(\"Incorrect file formating 13. \\n\")\n",
    "\n",
    "                # Handling for horse files. Could create def for optimziation\n",
    "                for i in horse_file:\n",
    "                    try:\n",
    "                        i2 = i.replace(\"\\n\", \"\")\n",
    "                        temp_storage.append(i2)\n",
    "                        count += 1\n",
    "                    except Exception as e:\n",
    "                        print(\"Incorrect file formating. \\n\", e)\n",
    "                        \n",
    "                if count == 4:\n",
    "                    horse_list.append(Horse(temp_storage[0],\n",
    "                                        temp_storage[1],\n",
    "                                        temp_storage[2],\n",
    "                                        temp_storage[3]))\n",
    "                    combined_list.append(Cat(temp_storage[0],\n",
    "                                        temp_storage[1],\n",
    "                                        temp_storage[2],\n",
    "                                        temp_storage[3]))\n",
    "                    temp_storage.clear()\n",
    "                    count = 0\n",
    "                else:\n",
    "                    print(\"Incorrect file formating 133. \\n\")\n",
    "\n",
    "    try:\n",
    "        cat_avg_weight_score, cat_avg_height_score, cat_least_height, cat_most_height = weight_height_score(cat_list)\n",
    "        horse_avg_weight_score, horse_avg_height_score, horse_least_height, horse_most_height = weight_height_score(horse_list)\n",
    "        print(\"\\n[*]Average Horse height {}\\n[*]Average Horse weight {}\\n[*]Average Cat height: {}\\n[*]Average Cat weight: {}\".format(horse_avg_height_score,horse_avg_weight_score,cat_avg_height_score,cat_avg_weight_score))\n",
    "        print(\"\\n[*]Least Horse height {}\\n[*]Most Horse height: {}\\n[*]Least Cat height {}\\n[*]Most Cat height: {}\".format(horse_least_height, horse_most_height, cat_least_height, cat_most_height))\n",
    "        \n",
    "        oldest_cat_date =  date_sort(cat_list)\n",
    "        oldest_horse_date = date_sort(horse_list)\n",
    "    \n",
    "        print(\"\\n[*]Oldest Cat Date: {}\".format(oldest_cat_date))\n",
    "        print(\"[*]Oldest Horse Date: {}\".format(oldest_horse_date))\n",
    "        user_input = input(\"Please Write Your Name: \")\n",
    "        for i in combined_list:\n",
    "            if i.name == user_input:\n",
    "                print(i.weight)\n",
    "    except Exception as e:\n",
    "        print(\"There is something wrong.\")\n",
    "\n",
    "\n",
    "if __name__ == \"__main__\":\n",
    "    main()"
   ]
  },
  {
   "cell_type": "code",
   "execution_count": 20,
   "id": "976d8800-9c24-40e0-8399-6c84d1785698",
   "metadata": {},
   "outputs": [
    {
     "ename": "SyntaxError",
     "evalue": "unexpected EOF while parsing (<ipython-input-20-9e5eab80e310>, line 18)",
     "output_type": "error",
     "traceback": [
      "\u001b[1;36m  File \u001b[1;32m\"<ipython-input-20-9e5eab80e310>\"\u001b[1;36m, line \u001b[1;32m18\u001b[0m\n\u001b[1;33m    \u001b[0m\n\u001b[1;37m    ^\u001b[0m\n\u001b[1;31mSyntaxError\u001b[0m\u001b[1;31m:\u001b[0m unexpected EOF while parsing\n"
     ]
    }
   ],
   "source": [
    "class Hello:\n",
    "    \n",
    "    def __init__(self, user):\n",
    "        self.user = user\n",
    "        \n",
    "class Cat:\n",
    "    \n",
    "    def __init__(self, name, weight, height, date):\n",
    "        self.name = name\n",
    "        self.weight = weight\n",
    "        self.height = height\n",
    "        self.date = date\n",
    "\n",
    "a = Hello(\"John\")\n",
    "b = []\n",
    "\n",
    "for i in range(0, 20):\n",
    "    "
   ]
  },
  {
   "cell_type": "code",
   "execution_count": 14,
   "id": "1eecc8fd-2ae9-4b2a-bdf1-cf1c4d44793a",
   "metadata": {},
   "outputs": [
    {
     "name": "stdout",
     "output_type": "stream",
     "text": [
      "John\n",
      "\n",
      "500\n",
      "\n",
      "150\n",
      "\n",
      "2021-01-02\n"
     ]
    }
   ],
   "source": [
    "with open(\"hej.katt\") as f:\n",
    "    for i in f:\n",
    "        print(i)"
   ]
  },
  {
   "cell_type": "code",
   "execution_count": 18,
   "id": "cf452411-2027-49d6-a853-e02f1cc86bcb",
   "metadata": {},
   "outputs": [],
   "source": [
    "import os\n",
    "from collections import defaultdict\n",
    "\n",
    "EXTENSIONS = {'.json', '.txt'}\n",
    "\n",
    "directory = '.'\n",
    "\n",
    "grouped_files = defaultdict(int)\n",
    "\n",
    "for f in os.listdir(directory):\n",
    "    name, ext = os.path.splitext(os.path.join(directory, f))\n",
    "    if ext in EXTENSIONS:\n",
    "        grouped_files[name] += 1\n",
    "\n",
    "for name in grouped_files:\n",
    "    if grouped_files[name] == len(EXTENSIONS):\n",
    "        with open('{}.txt'.format(name)) as txt_file, \\\n",
    "                open('{}.json'.format(name)) as json_file:\n",
    "            # process files\n",
    "            print(txt_file, json_file)"
   ]
  },
  {
   "cell_type": "code",
   "execution_count": 32,
   "id": "7a73d64a-1e0a-45e1-ae17-431642ba8b10",
   "metadata": {},
   "outputs": [
    {
     "name": "stdin",
     "output_type": "stream",
     "text": [
      "Hello Hello\n"
     ]
    },
    {
     "name": "stdout",
     "output_type": "stream",
     "text": [
      "12\n"
     ]
    }
   ],
   "source": []
  },
  {
   "cell_type": "code",
   "execution_count": 2,
   "id": "9b2185dd-a673-4aff-915a-1e0ec1ea952c",
   "metadata": {},
   "outputs": [
    {
     "ename": "TypeError",
     "evalue": "int() argument must be a string, a bytes-like object or a number, not 'NoneType'",
     "output_type": "error",
     "traceback": [
      "\u001b[1;31m--------------------------------------------------------------------------\u001b[0m",
      "\u001b[1;31mTypeError\u001b[0m                                Traceback (most recent call last)",
      "\u001b[1;32m<ipython-input-2-7c94d71d9591>\u001b[0m in \u001b[0;36m<module>\u001b[1;34m\u001b[0m\n\u001b[0;32m      1\u001b[0m \u001b[0ma\u001b[0m \u001b[1;33m=\u001b[0m \u001b[1;32mNone\u001b[0m\u001b[1;33m\u001b[0m\u001b[1;33m\u001b[0m\u001b[0m\n\u001b[0;32m      2\u001b[0m \u001b[0mb\u001b[0m \u001b[1;33m=\u001b[0m \u001b[1;36m125\u001b[0m\u001b[1;33m\u001b[0m\u001b[1;33m\u001b[0m\u001b[0m\n\u001b[1;32m----> 3\u001b[1;33m \u001b[1;32mif\u001b[0m \u001b[0mint\u001b[0m\u001b[1;33m(\u001b[0m\u001b[0ma\u001b[0m\u001b[1;33m)\u001b[0m \u001b[1;33m<\u001b[0m \u001b[0mb\u001b[0m\u001b[1;33m:\u001b[0m\u001b[1;33m\u001b[0m\u001b[1;33m\u001b[0m\u001b[0m\n\u001b[0m\u001b[0;32m      4\u001b[0m     \u001b[0mprint\u001b[0m\u001b[1;33m(\u001b[0m\u001b[1;34m\"Hello\"\u001b[0m\u001b[1;33m)\u001b[0m\u001b[1;33m\u001b[0m\u001b[1;33m\u001b[0m\u001b[0m\n",
      "\u001b[1;31mTypeError\u001b[0m: int() argument must be a string, a bytes-like object or a number, not 'NoneType'"
     ]
    }
   ],
   "source": [
    "a = None\n",
    "b = 125\n",
    "if int(a) < b:\n",
    "    print(\"Hello\")"
   ]
  },
  {
   "cell_type": "code",
   "execution_count": null,
   "id": "6a1c4c8b",
   "metadata": {},
   "outputs": [],
   "source": []
  }
 ],
 "metadata": {
  "kernelspec": {
   "display_name": "Python 3",
   "language": "python",
   "name": "python3"
  },
  "language_info": {
   "codemirror_mode": {
    "name": "ipython",
    "version": 3
   },
   "file_extension": ".py",
   "mimetype": "text/x-python",
   "name": "python",
   "nbconvert_exporter": "python",
   "pygments_lexer": "ipython3",
   "version": "3.9.1"
  }
 },
 "nbformat": 4,
 "nbformat_minor": 5
}
