{
 "cells": [
  {
   "cell_type": "code",
   "execution_count": 14,
   "id": "f60e3e3d",
   "metadata": {},
   "outputs": [
    {
     "name": "stdout",
     "output_type": "stream",
     "text": [
      "Power Consumption: 22 * 9 = 198\n"
     ]
    }
   ],
   "source": [
    "import collections\n",
    "\n",
    "rate = [\n",
    "    '00100',\n",
    "    '11110',\n",
    "    '10110',\n",
    "    '10111',\n",
    "    '10101',\n",
    "    '01111',\n",
    "    '00111',\n",
    "    '11100',\n",
    "    '10000',\n",
    "    '11001',\n",
    "    '00010',\n",
    "    '01010'\n",
    "]\n",
    "gamma = []\n",
    "epsilon = []\n",
    "for i in range(len(rate[0])):\n",
    "    cntr = collections.Counter([r[i] for r in rate])\n",
    "    gamma.append('1' if cntr['1'] > cntr['0'] else '0')\n",
    "    epsilon.append('0' if cntr['1'] > cntr['0'] else '1')\n",
    "gamma = int(\"\".join(gamma), 2)\n",
    "epsilon = int(\"\".join(epsilon), 2)\n",
    "print(f'Power Consumption: {gamma} * {epsilon} = {gamma * epsilon}')"
   ]
  },
  {
   "cell_type": "code",
   "execution_count": null,
   "id": "39f97920",
   "metadata": {},
   "outputs": [],
   "source": []
  }
 ],
 "metadata": {
  "kernelspec": {
   "display_name": "Python 3 (ipykernel)",
   "language": "python",
   "name": "python3"
  },
  "language_info": {
   "codemirror_mode": {
    "name": "ipython",
    "version": 3
   },
   "file_extension": ".py",
   "mimetype": "text/x-python",
   "name": "python",
   "nbconvert_exporter": "python",
   "pygments_lexer": "ipython3",
   "version": "3.9.7"
  }
 },
 "nbformat": 4,
 "nbformat_minor": 5
}
