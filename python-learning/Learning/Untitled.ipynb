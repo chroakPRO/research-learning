{
 "cells": [
  {
   "cell_type": "code",
   "execution_count": 1,
   "id": "0987a8b7",
   "metadata": {},
   "outputs": [
    {
     "name": "stdout",
     "output_type": "stream",
     "text": [
      "-1\n",
      "not 4\n",
      "not 4\n",
      "-2\n",
      "not 4\n"
     ]
    }
   ],
   "source": [
    "i = 4\n",
    "while True:\n",
    "    i -= 5\n",
    "    if i == -1:\n",
    "        print(-1)\n",
    "        continue\n",
    "    elif i == -2:\n",
    "        print(-2)\n",
    "    if i == 4:\n",
    "        print(4)\n",
    "    i += 7\n",
    "    if i != 4:\n",
    "        print(\"not 4\")\n",
    "    if i == 5:\n",
    "        break"
   ]
  },
  {
   "cell_type": "code",
   "execution_count": null,
   "id": "c2cd3a6d",
   "metadata": {},
   "outputs": [],
   "source": []
  }
 ],
 "metadata": {
  "kernelspec": {
   "display_name": "Python 3",
   "language": "python",
   "name": "python3"
  },
  "language_info": {
   "codemirror_mode": {
    "name": "ipython",
    "version": 3
   },
   "file_extension": ".py",
   "mimetype": "text/x-python",
   "name": "python",
   "nbconvert_exporter": "python",
   "pygments_lexer": "ipython3",
   "version": "3.9.1"
  }
 },
 "nbformat": 4,
 "nbformat_minor": 5
}
