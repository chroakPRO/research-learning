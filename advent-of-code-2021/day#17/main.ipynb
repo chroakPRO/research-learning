{
 "cells": [
  {
   "cell_type": "code",
   "execution_count": 1,
   "metadata": {},
   "outputs": [],
   "source": [
    "class TrickShot:\n",
    "    def __init__(self):\n",
    "        self.velocity = 0\n",
    "        self.max_x = 0\n",
    "        self.max_y = 0\n",
    "        self.min_x = 0\n",
    "        self.min_y = 0"
   ]
  },
  {
   "cell_type": "code",
   "execution_count": 8,
   "metadata": {},
   "outputs": [],
   "source": [
    "import re"
   ]
  },
  {
   "cell_type": "code",
   "execution_count": 10,
   "metadata": {},
   "outputs": [
    {
     "name": "stdout",
     "output_type": "stream",
     "text": [
      "20 30 -10 -5\n"
     ]
    }
   ],
   "source": [
    "with open(\"input.txt\", \"r+\") as f:\n",
    "    trickStruct = TrickShot()\n",
    "    target_area = f.read().strip()\n",
    "    x_match = re.search(r'x=(-?\\d+)..(-?\\d+)', target_area)\n",
    "    y_match = re.search(r'y=(-?\\d+)..(-?\\d+)', target_area)\n",
    "    trickStruct.min_x, trickStruct.max_x, trickStruct.min_y, trickStruct.max_y = int(x_match[1]), int(x_match[2]), int(y_match[1]), int(y_match[2])\n",
    "    print(trickStruct.min_x, trickStruct.max_x, trickStruct.min_y, trickStruct.max_y)\n",
    "    "
   ]
  },
  {
   "cell_type": "code",
   "execution_count": null,
   "metadata": {},
   "outputs": [],
   "source": []
  }
 ],
 "metadata": {
  "interpreter": {
   "hash": "9afbe8bed5bb103d9b15f30d666bb3897415e216a57a28bab02b97a5b6ac9591"
  },
  "kernelspec": {
   "display_name": "Python 3.9.7 ('base')",
   "language": "python",
   "name": "python3"
  },
  "language_info": {
   "codemirror_mode": {
    "name": "ipython",
    "version": 3
   },
   "file_extension": ".py",
   "mimetype": "text/x-python",
   "name": "python",
   "nbconvert_exporter": "python",
   "pygments_lexer": "ipython3",
   "version": "3.9.7"
  },
  "orig_nbformat": 4
 },
 "nbformat": 4,
 "nbformat_minor": 2
}
